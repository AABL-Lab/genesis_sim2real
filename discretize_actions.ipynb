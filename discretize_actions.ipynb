{
 "cells": [
  {
   "cell_type": "code",
   "execution_count": null,
   "id": "55916b89",
   "metadata": {},
   "outputs": [],
   "source": [
    "%matplotlib inline\n",
    "%load_ext autoreload\n",
    "%autoreload 2"
   ]
  },
  {
   "cell_type": "code",
   "execution_count": null,
   "id": "c196e045",
   "metadata": {},
   "outputs": [],
   "source": [
    "from genesis_gym import GenesisDemoHolder\n",
    "demo_player = GenesisDemoHolder(use_eef=True, subsample_ratio=2)"
   ]
  },
  {
   "cell_type": "code",
   "execution_count": null,
   "id": "9e570bad",
   "metadata": {},
   "outputs": [],
   "source": [
    "action = demo_player.next_action(normalize=False)\n",
    "if action is not None:\n",
    "    action = action['action']\n",
    "else:\n",
    "    demo_player.next_demo()\n",
    "    action = demo_player.next_action(normalize=False)['action']\n",
    "\n",
    "actions = []\n",
    "while action is not None:\n",
    "    actions.append(np.array(action))\n",
    "    # round each dimension to the 3rd decimal place\n",
    "    action = [round(x, 3) for x in action]\n",
    "    print(', '.join([f'{x:+.4f}' for x in action]), end=' || ')\n",
    "    action = demo_player.next_action(normalize=False)\n",
    "    action = action['action'] if action is not None else None\n",
    "\n",
    "# plot the actions \n",
    "import matplotlib.pyplot as plt\n",
    "import numpy as np\n",
    "\n",
    "npactions = np.array(actions)\n",
    "fig, ax = plt.subplots(len(actions[0]), 1, figsize=(10, 10))\n",
    "for i in range(len(actions[0])):\n",
    "    ax[i].plot(npactions[:, i])\n",
    "    ax[i].set_title(f'Action {i}')\n",
    "    ax[i].set_xlabel('Time step')\n",
    "    ax[i].set_ylabel('Action value')\n",
    "    if i <= 2:\n",
    "        ax[i].set_ylim(-0.3, 0.8)\n",
    "    elif i == 6:\n",
    "        ax[i].set_ylim(0, 100)\n",
    "    else:\n",
    "        ax[i].set_ylim(-np.pi, np.pi)"
   ]
  },
  {
   "cell_type": "code",
   "execution_count": null,
   "id": "369ab4b7",
   "metadata": {},
   "outputs": [],
   "source": [
    "dactions = np.diff(npactions, axis=0)\n",
    "print(dactions.shape, npactions.shape)"
   ]
  },
  {
   "cell_type": "code",
   "execution_count": null,
   "id": "2fca00e2",
   "metadata": {},
   "outputs": [],
   "source": [
    "# make a histogram of the actions\n",
    "fig, ax = plt.subplots(len(actions[0]), 1, figsize=(10, 20))\n",
    "for i in range(len(actions[0])):\n",
    "\n",
    "    da = dactions[:, i]\n",
    "\n",
    "    # filter out abs(entry) < 0.001\n",
    "    da = da[np.abs(da) > 0.0005]\n",
    "\n",
    "    # filter out the 0s\n",
    "    ax[i].hist(da, bins=100)\n",
    "    # ax[i].set_title(f'Action {i} histogram')\n",
    "    # ax[i].set_xlabel('Action value')\n",
    "    # ax[i].set_ylabel('Frequency')\n",
    "fig.suptitle('Action histogram')\n",
    "plt.tight_layout()\n",
    "plt.show()"
   ]
  }
 ],
 "metadata": {
  "kernelspec": {
   "display_name": "venv",
   "language": "python",
   "name": "python3"
  },
  "language_info": {
   "codemirror_mode": {
    "name": "ipython",
    "version": 3
   },
   "file_extension": ".py",
   "mimetype": "text/x-python",
   "name": "python",
   "nbconvert_exporter": "python",
   "pygments_lexer": "ipython3",
   "version": "3.10.15"
  }
 },
 "nbformat": 4,
 "nbformat_minor": 5
}
