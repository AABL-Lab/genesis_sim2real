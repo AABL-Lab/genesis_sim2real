{
 "cells": [
  {
   "cell_type": "code",
   "execution_count": 1,
   "metadata": {},
   "outputs": [],
   "source": [
    "%matplotlib inline\n",
    "%load_ext autoreload\n",
    "%autoreload 2\n"
   ]
  },
  {
   "cell_type": "code",
   "execution_count": 2,
   "metadata": {},
   "outputs": [
    {
     "name": "stderr",
     "output_type": "stream",
     "text": [
      "[I 05/03/25 13:15:21.132 1564043] [shell.py:_shell_pop_print@23] Graphical python shell detected, using wrapped sys.stdout\n"
     ]
    }
   ],
   "source": [
    "import genesis as gs\n",
    "# show the iamge\n",
    "import matplotlib.pyplot as plt\n",
    "import matplotlib.image as mpimg\n",
    "from genesis_gym import GenesisGym"
   ]
  },
  {
   "cell_type": "code",
   "execution_count": 3,
   "metadata": {},
   "outputs": [
    {
     "name": "stdout",
     "output_type": "stream",
     "text": [
      "GenesisGym Task=lift args: {'rho': 2000, 'radius': 0.034, 'height': 0.09, 'friction': 0.5, 'vis': True, 'grayscale': False, 'time_limit': 4000, 'env_name': 'lift'}\n",
      "Joint 'right_finger_tip_joint' mimics 'right_finger_bottom_joint' with multiplier -0.676 and offset -0.025\n",
      "Joint 'left_finger_bottom_joint' mimics 'right_finger_bottom_joint' with multiplier -1.0 and offset 0.0\n",
      "Joint 'left_finger_tip_joint' mimics 'right_finger_bottom_joint' with multiplier -0.676 and offset -0.025\n"
     ]
    },
    {
     "name": "stderr",
     "output_type": "stream",
     "text": [
      "[W 05/03/25 13:15:35.163 1564043] [frontend_ir.cpp:begin_frontend_struct_for_on_external_tensor@1694] ti.loop_config(serialize=True) does not have effect on the struct for. The execution order is not guaranteed.\n"
     ]
    }
   ],
   "source": [
    "import random\n",
    "import pathlib as pl\n",
    "import numpy as np\n",
    "import os, sys\n",
    "import torch\n",
    "\n",
    "## Default Args\n",
    "DEFAULT_RADIUS = 0.034 # 0032\n",
    "DEFAULT_HEIGHT = 0.09 # 0.1\n",
    "DEFAULT_RHO = 2000\n",
    "DEFAULT_FRICTION = 0.5\n",
    "DEFAULT_STARTING_X = 0.65\n",
    "    # parser = argparse.ArgumentParser(description='Genesis Gym Environment')\n",
    "    # parser.add_argument('--vis', action='store_true', help='Enable visualization')\n",
    "    # parser.add_argument('--radius', type=float, default=DEFAULT_RADIUS, help='Bottle radius')\n",
    "    # parser.add_argument('-e', '--height', type=float, default=DEFAULT_HEIGHT, help='Bottle height')\n",
    "    # parser.add_argument('-o', '--rho', type=float, default=DEFAULT_RHO, help='Density of the bottle')\n",
    "    # parser.add_argument('--friction', type=float, default=DEFAULT_FRICTION, help='Friction of the bottle')\n",
    "    # parser.add_argument('--starting_x', type=float, default=DEFAULT_STARTING_X, help='Starting x position of the bottle')\n",
    "    # parser.add_argument('--max-demos', type=int, default=1e7, help='Max number of demos to load')\n",
    "    # parser.add_argument('--random-agent', action='store_true', help='Use a random agent')\n",
    "    # parser.add_argument('--subsample', type=int, default=2, help='Subsample ratio for the demos')\n",
    "    # parser.add_argument('--env-name', type=str, default='lift', help='Environment name')\n",
    "    # args = parser.parse_args()\n",
    "\n",
    "args = {\n",
    "    'vis': True,\n",
    "    'radius': DEFAULT_RADIUS,\n",
    "    'height': DEFAULT_HEIGHT,\n",
    "    'rho': DEFAULT_RHO,\n",
    "    'friction': DEFAULT_FRICTION,\n",
    "    'starting_x': DEFAULT_STARTING_X,\n",
    "    'max_demos': 1e7,\n",
    "    'random_agent': False,\n",
    "    'subsample': 2,\n",
    "    'env_name': 'lift',\n",
    "}\n",
    "\n",
    "env = GenesisGym(**args)\n",
    "obs = env.reset()"
   ]
  },
  {
   "cell_type": "code",
   "execution_count": 4,
   "metadata": {},
   "outputs": [
    {
     "name": "stderr",
     "output_type": "stream",
     "text": [
      "/home/j/workspace/fastrl/venv/lib/python3.11/site-packages/numpy/core/fromnumeric.py:3504: RuntimeWarning: Mean of empty slice.\n",
      "  return _methods._mean(a, axis=axis, dtype=dtype,\n",
      "/home/j/workspace/fastrl/venv/lib/python3.11/site-packages/numpy/core/_methods.py:121: RuntimeWarning: invalid value encountered in divide\n",
      "  ret = um.true_divide(\n"
     ]
    },
    {
     "name": "stdout",
     "output_type": "stream",
     "text": [
      "Loaded 96 demos from /home/j/workspace/genesis_sim2real/inthewild_trials\n",
      "235 (442, 7) -- 310 (917, 7) -- 317 (723, 7) -- 326 (483, 7) -- 304 (1040, 7) -- 287 (2309, 7) -- 293 (3071, 7) -- 302 (582, 7) -- 325 (730, 7) -- 311 (650, 7) -- 281 (520, 7) -- 274 (944, 7) -- 278 (334, 7) -- 289 (301, 7) -- 286 (1876, 7) -- 233 (463, 7) -- 328 (1383, 7) -- 255 (687, 7) -- 246 (1311, 7) -- 273 (734, 7) -- 236 (339, 7) -- 266 (895, 7) -- 313 (747, 7) -- 280 (362, 7) -- 327 (687, 7) -- 334 (572, 7) -- 268 (2538, 7) -- 301 (826, 7) -- 240 (772, 7) -- 250 (1675, 7) -- 298 (521, 7) -- 309 (877, 7) -- 248 (1531, 7) -- 315 (1945, 7) -- 303 (1152, 7) -- 269 (2428, 7) -- 284 (657, 7) -- 262 (468, 7) -- 238 (1275, 7) -- 277 (427, 7) -- 324 (324, 7) -- 259 (604, 7) -- 330 (1335, 7) -- 283 (660, 7) -- 275 (722, 7) -- 299 (1306, 7) -- 257 (504, 7) -- 251 (792, 7) -- 331 (1434, 7) -- 318 (759, 7) -- 307 (943, 7) -- 237 (401, 7) -- 279 (1000, 7) -- 254 (807, 7) -- 261 (706, 7) -- 314 (650, 7) -- 316 (940, 7) -- 247 (868, 7) -- 297 (569, 7) -- 258 (626, 7) -- 300 (2385, 7) -- 296 (1395, 7) -- 319 (1341, 7) -- 308 (677, 7) -- 265 (1464, 7) -- 294 (2682, 7) -- 242 (515, 7) -- 285 (418, 7) -- 243 (286, 7) -- 249 (1426, 7) -- 321 (857, 7) -- 260 (880, 7) -- 306 (1264, 7) -- 322 (211, 7) -- 253 (597, 7) -- 290 (178, 7) -- 256 (1097, 7) -- 239 (1378, 7) -- 320 (1329, 7) -- 244 (524, 7) -- 282 (255, 7) -- 288 (1664, 7) -- 245 (1662, 7) -- 305 (631, 7) -- 276 (730, 7) -- 267 (886, 7) -- 234 (450, 7) -- 335 (624, 7) -- 295 (3116, 7) -- 232 (459, 7) -- 252 (771, 7) -- 333 (2035, 7) -- 270 (1850, 7) -- 263 (525, 7) -- 329 (709, 7) -- 312 (1433, 7) -- \n",
      "Total samples: 94848\n"
     ]
    }
   ],
   "source": [
    "from demo_holder import GenesisDemoHolder\n",
    "from collections import defaultdict\n",
    "demo_player = GenesisDemoHolder(use_eef=False, subsample_ratio=args['subsample'])\n",
    "TRIAL_CAN_ADJUSTED = defaultdict(lambda: False)\n"
   ]
  },
  {
   "cell_type": "code",
   "execution_count": 5,
   "metadata": {},
   "outputs": [
    {
     "data": {
      "text/plain": [
       "235"
      ]
     },
     "execution_count": 5,
     "metadata": {},
     "output_type": "execute_result"
    }
   ],
   "source": [
    "demo_player.next_demo()\n"
   ]
  },
  {
   "cell_type": "code",
   "execution_count": null,
   "metadata": {},
   "outputs": [
    {
     "name": "stdout",
     "output_type": "stream",
     "text": [
      "Reset current demo 235\n",
      "action: +0.52 -0.41 action: +0.52 -0.38 action: +0.52 -0.36 action: +0.52 -0.34 action: +0.52 -0.33 action: +0.52 -0.31 action: +0.52 -0.31 action: +0.51 -0.30 action: +0.49 -0.30 action: +0.49 -0.30 action: +0.49 -0.30 action: +0.49 -0.30 action: +0.49 -0.31 action: +0.49 -0.31 action: +0.50 -0.32 action: +0.50 -0.33 action: +0.50 -0.34 action: +0.51 -0.36 action: +0.51 -0.37 action: +0.51 -0.38 action: +0.51 -0.40 action: +0.51 -0.41 action: +0.51 -0.43 action: +0.51 -0.44 action: +0.51 -0.46 action: +0.51 -0.48 action: +0.51 -0.49 action: +0.51 -0.51 action: +0.51 -0.53 action: +0.51 -0.54 action: +0.51 -0.56 action: +0.51 -0.57 action: +0.51 -0.59 action: +0.51 -0.61 action: +0.51 -0.62 action: +0.51 -0.64 action: +0.51 -0.65 action: +0.51 -0.67 action: +0.51 -0.68 action: +0.51 -0.70 action: +0.51 -0.71 action: +0.51 -0.71 action: +0.51 -0.71 action: +0.51 -0.71 action: +0.51 -0.71 action: +0.51 -0.71 action: +0.51 -0.71 action: +0.51 -0.70 action: +0.51 -0.70 action: +0.50 -0.70 action: +1.37 -0.70 action: +5.71 -0.70 action: +10.76 -0.70 action: +14.64 -0.70 action: +19.32 -0.70 action: +23.16 -0.70 action: +27.67 -0.70 action: +29.83 -0.70 action: +32.71 -0.70 action: +36.53 -0.70 action: +41.11 -0.70 action: +44.94 -0.70 action: +49.48 -0.70 action: +53.07 -0.70 Reset current demo 235\n",
      "\n",
      "Gripper closing and can is nearby, restarting demo and setting can to gripper pose\n",
      "action: +0.52 -0.31 action: +0.52 -0.28 action: +0.52 -0.26 action: +0.52 -0.24 action: +0.52 -0.22 action: +0.52 -0.21 action: +0.52 -0.20 action: +0.51 -0.19 action: +0.49 -0.19 action: +0.49 -0.19 action: +0.49 -0.19 action: +0.49 -0.19 action: +0.49 -0.20 action: +0.49 -0.21 action: +0.50 -0.22 action: +0.50 -0.23 action: +0.50 -0.24 action: +0.51 -0.26 action: +0.51 -0.27 action: +0.51 -0.29 action: +0.51 -0.30 action: +0.51 -0.32 action: +0.51 -0.34 action: +0.51 -0.36 action: +0.51 -0.38 action: +0.51 -0.40 action: +0.51 -0.41 action: +0.51 -0.43 action: +0.51 -0.45 action: +0.51 -0.47 action: +0.51 -0.49 action: +0.51 -0.51 action: +0.51 -0.53 action: +0.51 -0.55 action: +0.51 -0.56 action: +0.51 -0.58 action: +0.51 -0.60 action: +0.51 -0.62 action: +0.51 -0.63 action: +0.51 -0.65 action: +0.51 -0.67 action: +0.51 -0.68 action: +0.51 -0.70 action: +0.51 -0.71 action: +0.51 -0.71 action: +0.51 -0.71 action: +0.51 -0.71 action: +0.51 -0.71 action: +0.51 -0.71 action: +0.50 -0.70 action: +1.37 -0.70 action: +5.71 -0.70 action: +10.76 -0.70 action: +14.64 -0.70 action: +19.32 -0.70 action: +23.16 -0.70 action: +27.67 -0.70 action: +29.83 -0.70 action: +32.71 -0.70 action: +36.53 -0.70 action: +41.11 -0.70 action: +44.94 -0.70 action: +49.48 -0.70 action: +53.07 -0.70 action: +56.58 -0.70 action: +60.11 -0.70 action: +62.48 -0.70 action: +63.82 -0.69 action: +64.66 -0.69 action: +65.25 -0.68 action: +65.87 -0.68 action: +66.18 -0.67 action: +66.46 -0.66 action: +66.64 -0.66 action: +66.76 -0.65 action: +66.90 -0.64 action: +67.07 -0.63 action: +67.23 -0.62 action: +67.28 -0.62 action: +67.47 -0.61 action: +67.64 -0.60 action: +67.65 -0.59 action: +67.67 -0.59 action: +67.95 -0.58 action: +68.01 -0.57 action: +68.10 -0.57 action: +68.36 -0.57 action: +68.38 -0.57 action: +68.44 -0.57 action: +68.56 -0.57 action: +68.73 -0.57 action: +68.83 -0.57 action: +68.96 -0.57 action: +69.02 -0.57 action: +69.07 -0.57 action: +69.08 -0.57 action: +69.16 -0.57 action: +69.27 -0.57 action: +69.35 -0.57 action: +69.40 -0.57 action: +69.39 -0.57 action: +69.38 -0.57 action: +69.37 -0.57 action: +69.37 -0.57 action: +69.36 -0.57 action: +69.35 -0.57 action: +69.34 -0.57 action: +69.33 -0.57 action: +69.32 -0.57 action: +69.30 -0.57 action: +69.28 -0.57 action: +69.27 -0.57 action: +69.26 -0.57 action: +69.28 -0.57 action: +69.30 -0.57 action: +69.31 -0.57 action: +69.33 -0.57 action: +69.33 -0.57 action: +69.34 -0.56 action: +69.34 -0.56 action: +69.34 -0.56 action: +69.35 -0.56 action: +69.35 -0.55 action: +69.36 -0.55 action: +69.36 -0.54 action: +69.36 -0.54 action: +69.36 -0.54 action: +69.36 -0.53 action: +69.36 -0.53 action: +69.37 -0.53 action: +69.37 -0.53 action: +69.37 -0.53 action: +69.37 -0.52 action: +69.37 -0.52 action: +69.37 -0.52 action: +69.38 -0.52 action: +69.38 -0.52 action: +69.37 -0.51 action: +69.37 -0.51 action: +69.37 -0.50 action: +69.37 -0.50 action: +69.37 -0.50 action: +69.35 -0.49 action: +69.34 -0.49 action: +69.34 -0.48 action: +69.34 -0.48 action: +69.34 -0.47 action: +69.34 -0.47 action: +69.34 -0.46 action: +69.34 -0.46 action: +69.34 -0.45 action: +69.33 -0.45 action: +69.33 -0.44 action: +69.32 -0.44 action: +69.32 -0.43 action: +69.32 -0.43 action: +69.32 -0.42 action: +69.32 -0.42 action: +69.32 -0.41 action: +69.31 -0.41 action: +69.31 -0.40 action: +69.30 -0.40 action: +69.30 -0.39 action: +69.29 -0.39 action: +69.28 -0.39 action: +69.27 -0.38 action: +69.25 -0.38 action: +69.24 -0.37 action: +69.23 -0.37 action: +69.22 -0.37 action: +69.22 -0.36 action: +69.22 -0.36 action: +69.22 -0.36 action: +69.22 -0.36 action: +69.21 -0.35 action: +69.21 -0.35 action: +69.20 -0.35 action: +69.20 -0.34 action: +69.20 -0.34 action: +69.19 -0.34 action: +69.19 -0.34 action: +69.19 -0.34 action: +69.18 -0.33 action: +69.18 -0.33 action: +69.18 -0.33 action: +69.17 -0.33 action: +69.17 -0.33 action: +69.16 -0.33 action: +69.15 -0.33 action: +69.14 -0.33 action: +69.14 -0.32 action: +69.13 -0.32 action: +69.13 -0.32 action: +69.12 -0.32 action: +69.12 -0.32 action: +69.11 -0.32 action: +69.10 -0.32 action: +69.09 -0.32 action: +69.08 -0.32 action: +69.08 -0.32 action: +69.08 -0.32 action: +69.08 -0.32 action: +69.08 -0.32 action: +69.08 -0.32 action: +69.08 -0.32 action: +69.08 -0.32 action: +69.08 -0.32 action: +69.08 -0.32 action: +69.08 -0.32 action: +69.08 -0.32 action: +69.08 -0.32 action: +69.08 -0.32 action: +69.08 -0.32 action: +69.08 -0.32 action: +69.09 -0.32 action: +69.09 -0.32 action: +69.09 -0.32 action: +69.09 -0.32 action: +69.09 -0.32 action: +69.09 -0.32 action: +69.09 -0.32 action: +69.09 -0.32 action: +69.09 -0.32 action: +69.09 -0.32 action: +69.09 -0.32 action: +69.10 -0.32 action: +69.10 -0.32 action: +69.10 -0.32 action: +69.10 -0.32 action: +69.10 -0.32 action: +69.10 -0.32 action: +69.10 -0.32 action: +69.10 -0.32 action: +69.10 -0.32 action: +69.10 -0.32 action: +69.10 -0.32 action: +69.10 -0.32 action: +69.10 -0.32 action: +69.10 -0.32 action: +69.10 -0.32 action: +69.10 -0.32 action: +69.10 -0.32 action: +69.10 -0.32 action: +69.10 -0.32 action: +69.09 -0.32 action: +69.09 -0.32 action: +69.09 -0.32 action: +69.09 -0.32 action: +69.09 -0.32 action: +69.09 -0.32 action: +69.09 -0.32 action: +69.09 -0.32 action: +69.09 -0.32 action: +69.09 -0.32 action: +69.09 -0.32 action: +68.67 -0.32 action: +65.44 -0.32 action: +59.84 -0.32 action: +56.59 -0.32 action: +53.38 -0.32 action: +50.67 -0.32 action: +48.14 -0.32 action: +45.10 -0.33 action: +42.07 -0.33 action: +39.04 -0.34 action: +36.90 -0.35 action: +33.99 -0.36 action: +29.40 -0.37 action: +25.64 -0.38 action: +21.86 -0.39 action: +18.67 -0.40 action: +17.60 -0.42 action: +17.70 -0.43 action: +17.87 -0.44 action: +17.96 -0.46 action: +18.03 -0.47 action: +18.18 -0.48 action: +18.26 -0.50 action: +18.31 -0.51 action: +18.33 -0.52 action: +18.35 -0.54 action: +18.37 -0.55 action: +18.43 -0.56 action: +18.45 -0.58 action: +18.47 -0.59 action: +18.48 -0.60 action: +18.52 -0.62 action: +18.54 -0.63 action: +18.55 -0.64 "
     ]
    }
   ],
   "source": [
    "from genesis_gym import PZ\n",
    "import time\n",
    "demo_player.reset_current_demo()\n",
    "env.scene.clear_debug_objects()\n",
    "\n",
    "\n",
    "def get_grip_pose(env):\n",
    "    # get the average position of the fingertips\n",
    "    left_fingertip = env.kinova.get_link('left_finger_prox_link').get_pos().cpu().numpy()\n",
    "    right_fingertip = env.kinova.get_link('right_finger_prox_link').get_pos().cpu().numpy()\n",
    "    env.scene.draw_debug_sphere(left_fingertip, 0.01, color=(0, 1, 0))\n",
    "    env.scene.draw_debug_sphere(right_fingertip, 0.01, color=(0, 1, 0))\n",
    "    return np.mean([left_fingertip, right_fingertip], axis=0) + [0.04, 0., 0.]\n",
    "\n",
    "trial_id = demo_player.get_trial_id()\n",
    "TRIAL_CAN_ADJUSTED[trial_id] = False\n",
    "env.reset(trial_id=trial_id)\n",
    "action = demo_player.next_action()['action']\n",
    "while action is not None:\n",
    "    obs, reward, done, info = env.step(action)\n",
    "    if args['vis']:\n",
    "        env.render()\n",
    "\n",
    "    # get the gripper position\n",
    "    print(f\"action: {action[-1]:+1.2f} {obs['state'][-1]:+1.2f}\", end=' ')\n",
    "\n",
    "\n",
    "    # if the gripper action is closing and the can is nearby, move the can and restart the demo\n",
    "    gripper_pos = env.kinova.get_link('end_effector_link').get_pos().cpu().numpy()\n",
    "    can_pose = env.bottle.get_pos().cpu().numpy()\n",
    "    dp = np.linalg.norm(gripper_pos - can_pose)\n",
    "    if action[-1] > 50 and dp < 0.2 and not TRIAL_CAN_ADJUSTED[trial_id] and gripper_pos[2] < 0.5:\n",
    "        # get the average pos of the last 4 links \n",
    "        grip_pos = get_grip_pose(env)\n",
    "        grip_pos[-1] = PZ\n",
    "        # make a debug sphere\n",
    "        debug_arrow = env.scene.draw_debug_arrow(pos=gripper_pos, vec=grip_pos - gripper_pos, radius=0.01, color=(1, 0, 0, 0.5))  # Green\n",
    "        env.scene.draw_debug_sphere(gripper_pos, 0.01, color=(0, 1, 1))\n",
    "        env.scene.draw_debug_sphere(grip_pos, 0.01, color=(0, 0, 1))\n",
    "\n",
    "        env.reset(trial_id=trial_id)\n",
    "        demo_player.reset_current_demo()\n",
    "        env.set_can_to_pose(torch.Tensor(grip_pos))\n",
    "        print()\n",
    "        print(\"Gripper closing and can is nearby, restarting demo and setting can to gripper pose\")\n",
    "        TRIAL_CAN_ADJUSTED[trial_id] = True\n",
    "        env.scene.step()\n",
    "\n",
    "    action = demo_player.next_action()\n",
    "    action = action['action'] if action is not None else None\n",
    "    if done:\n",
    "        break\n",
    "\n",
    "\n",
    "\n",
    "    # break"
   ]
  }
 ],
 "metadata": {
  "kernelspec": {
   "display_name": "venv",
   "language": "python",
   "name": "python3"
  },
  "language_info": {
   "codemirror_mode": {
    "name": "ipython",
    "version": 3
   },
   "file_extension": ".py",
   "mimetype": "text/x-python",
   "name": "python",
   "nbconvert_exporter": "python",
   "pygments_lexer": "ipython3",
   "version": "3.11.0rc1"
  }
 },
 "nbformat": 4,
 "nbformat_minor": 2
}
