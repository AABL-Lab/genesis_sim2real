{
 "cells": [
  {
   "cell_type": "code",
   "execution_count": 1,
   "metadata": {},
   "outputs": [],
   "source": [
    "%matplotlib inline\n",
    "%load_ext autoreload\n",
    "%autoreload 2\n"
   ]
  },
  {
   "cell_type": "code",
   "execution_count": 2,
   "metadata": {},
   "outputs": [
    {
     "name": "stderr",
     "output_type": "stream",
     "text": [
      "[I 05/13/25 15:33:31.244 1479037] [shell.py:_shell_pop_print@23] Graphical python shell detected, using wrapped sys.stdout\n"
     ]
    },
    {
     "name": "stdout",
     "output_type": "stream",
     "text": [
      "Failed to import pyassimp, see https://github.com/moveit/moveit/issues/86 for more info\n"
     ]
    }
   ],
   "source": [
    "import genesis as gs\n",
    "# show the iamge\n",
    "import matplotlib.pyplot as plt\n",
    "import matplotlib.image as mpimg\n",
    "from genesis_gym import GenesisGym"
   ]
  },
  {
   "cell_type": "code",
   "execution_count": 3,
   "metadata": {},
   "outputs": [
    {
     "name": "stdout",
     "output_type": "stream",
     "text": [
      "GenesisGym Task=lift args: {'rho': 2000, 'radius': 0.034, 'height': 0.09, 'friction': 0.5, 'vis': True, 'grayscale': False, 'time_limit': 2000, 'env_name': 'lift'}\n",
      "Joint 'right_finger_tip_joint' mimics 'right_finger_bottom_joint' with multiplier -0.676 and offset -0.05\n",
      "Joint 'left_finger_bottom_joint' mimics 'right_finger_bottom_joint' with multiplier -1.0 and offset 0.0\n",
      "Joint 'left_finger_tip_joint' mimics 'right_finger_bottom_joint' with multiplier -0.676 and offset -0.05\n"
     ]
    },
    {
     "name": "stderr",
     "output_type": "stream",
     "text": [
      "[W 05/13/25 15:33:42.752 1479037] [frontend_ir.cpp:begin_frontend_struct_for_on_external_tensor@1694] ti.loop_config(serialize=True) does not have effect on the struct for. The execution order is not guaranteed.\n"
     ]
    },
    {
     "name": "stdout",
     "output_type": "stream",
     "text": [
      "Opening gripper [INFO] [1747164913.974489]: Sending the gripper command...\n",
      "Done.\n",
      "\tMoving to [0.34551798719466237, -0.8454950565561763, 2.169129261535217, -1.232747441193471, 1.4586096006108726, -1.686383909690952]. Distance from target 0.3046178482512747\n",
      "[INFO] [1747164916.082654]: Moving to joint pose\n",
      "armpy::Moving to joint pose\n",
      "armpy::Waiting for joint pose to finish...it will not...so just returning (sketchy...)\n",
      "\tMoving to [0.3268500269015339, -1.4471734542578538, 2.3453266624159497, -1.3502152158191212, 2.209384006676201, -1.5125125137062945]. Distance from target 0.9999799984894285\n",
      "[INFO] [1747164921.205847]: Moving to joint pose\n",
      "armpy::Moving to joint pose\n",
      "armpy::Waiting for joint pose to finish...it will not...so just returning (sketchy...)\n"
     ]
    }
   ],
   "source": [
    "import random\n",
    "import pathlib as pl\n",
    "import numpy as np\n",
    "import os, sys\n",
    "import torch\n",
    "\n",
    "## Default Args\n",
    "DEFAULT_RADIUS = 0.034 # 0032\n",
    "DEFAULT_HEIGHT = 0.09 # 0.1\n",
    "DEFAULT_RHO = 2000\n",
    "DEFAULT_FRICTION = 0.5\n",
    "DEFAULT_STARTING_X = 0.65\n",
    "    # parser = argparse.ArgumentParser(description='Genesis Gym Environment')\n",
    "    # parser.add_argument('--vis', action='store_true', help='Enable visualization')\n",
    "    # parser.add_argument('--radius', type=float, default=DEFAULT_RADIUS, help='Bottle radius')\n",
    "    # parser.add_argument('-e', '--height', type=float, default=DEFAULT_HEIGHT, help='Bottle height')\n",
    "    # parser.add_argument('-o', '--rho', type=float, default=DEFAULT_RHO, help='Density of the bottle')\n",
    "    # parser.add_argument('--friction', type=float, default=DEFAULT_FRICTION, help='Friction of the bottle')\n",
    "    # parser.add_argument('--starting_x', type=float, default=DEFAULT_STARTING_X, help='Starting x position of the bottle')\n",
    "    # parser.add_argument('--max-demos', type=int, default=1e7, help='Max number of demos to load')\n",
    "    # parser.add_argument('--random-agent', action='store_true', help='Use a random agent')\n",
    "    # parser.add_argument('--subsample', type=int, default=2, help='Subsample ratio for the demos')\n",
    "    # parser.add_argument('--env-name', type=str, default='lift', help='Environment name')\n",
    "    # args = parser.parse_args()\n",
    "\n",
    "args = {\n",
    "    'vis': True,\n",
    "    'radius': DEFAULT_RADIUS,\n",
    "    'height': DEFAULT_HEIGHT,\n",
    "    'rho': DEFAULT_RHO,\n",
    "    'friction': DEFAULT_FRICTION,\n",
    "    'starting_x': DEFAULT_STARTING_X,\n",
    "    'max_demos': 1e7,\n",
    "    'random_agent': False,\n",
    "    'subsample': 2,\n",
    "    'env_name': 'lift',\n",
    "}\n",
    "\n",
    "env = GenesisGym(**args)\n",
    "obs = env.reset()"
   ]
  },
  {
   "cell_type": "code",
   "execution_count": null,
   "metadata": {},
   "outputs": [
    {
     "data": {
      "text/plain": [
       "<bound method Viewer.is_alive of \u001b[38;5;11m─────────────── \u001b[1m\u001b[3m<gs.Viewer>\u001b[0m \u001b[38;5;11m───────────────\n",
       "      \u001b[38;5;159m'max_FPS'\u001b[0m\u001b[38;5;247m:\u001b[0m \u001b[38;5;121m\u001b[3m<int>\u001b[0m\u001b[38;5;121m: 60\u001b[0m\n",
       "          \u001b[38;5;159m'res'\u001b[0m\u001b[38;5;247m:\u001b[0m \u001b[38;5;121m\u001b[3m<tuple>\u001b[0m\u001b[38;5;121m: (800, 600)\u001b[0m\n",
       "    \u001b[38;5;159m'camera_up'\u001b[0m\u001b[38;5;247m:\u001b[0m \u001b[38;5;121m\u001b[3m<tuple>\u001b[0m\u001b[38;5;121m: (0.0, 0.0, 1.0)\u001b[0m\n",
       "   \u001b[38;5;159m'camera_pos'\u001b[0m\u001b[38;5;247m:\u001b[0m \u001b[38;5;121m\u001b[3m<numpy.ndarray>\u001b[0m\u001b[38;5;121m: array([3.5, 0.5, 2.5])\u001b[0m\n",
       "   \u001b[38;5;159m'camera_fov'\u001b[0m\u001b[38;5;247m:\u001b[0m \u001b[38;5;121m\u001b[3m<int>\u001b[0m\u001b[38;5;121m: 40\u001b[0m\n",
       "  \u001b[38;5;159m'camera_pose'\u001b[0m\u001b[38;5;247m:\u001b[0m \u001b[38;5;121m\u001b[3m<numpy.ndarray>\u001b[0m\u001b[38;5;121m: array([[-1.41421356e-01, -4.87417437e-01,  8.61640437e-01,\n",
       "                                           3.50000000e+00],\n",
       "                                         [ 9.89949494e-01, -6.96310624e-02,  1.23091491e-01,\n",
       "                                           5.00000000e-01],\n",
       "                                         [-4.99600361e-16,  8.70388280e-01,  4.92365964e-01,\n",
       "                                           2.50000000e+00],\n",
       "                                         [ 0.00000000e+00,  0.00000000e+00,  0.00000000e+00,\n",
       "                                           1.00000000e+00]])\u001b[0m\n",
       "\u001b[38;5;159m'camera_lookat'\u001b[0m\u001b[38;5;247m:\u001b[0m \u001b[38;5;121m\u001b[3m<numpy.ndarray>\u001b[0m\u001b[38;5;121m: array([2.63835956, 0.37690851, 2.00763404])\u001b[0m\n",
       " \u001b[38;5;159m'refresh_rate'\u001b[0m\u001b[38;5;247m:\u001b[0m \u001b[38;5;121m\u001b[3m<int>\u001b[0m\u001b[38;5;121m: 60\u001b[0m\n",
       ">"
      ]
     },
     "execution_count": 30,
     "metadata": {},
     "output_type": "execute_result"
    }
   ],
   "source": [
    "cam = env.scene.add_camera(\n",
    "    res    = (1280, 960),\n",
    "    pos    = (3.5, 0.0, 2.5),\n",
    "    lookat = (0, 0, 0.5),\n",
    "    fov    = 30,\n",
    "    GUI    = False\n",
    ")"
   ]
  },
  {
   "cell_type": "code",
   "execution_count": 4,
   "metadata": {},
   "outputs": [
    {
     "name": "stderr",
     "output_type": "stream",
     "text": [
      "/home/j/workspace/lerobot/venv/lib/python3.10/site-packages/numpy/core/fromnumeric.py:3504: RuntimeWarning: Mean of empty slice.\n",
      "  return _methods._mean(a, axis=axis, dtype=dtype,\n",
      "/home/j/workspace/lerobot/venv/lib/python3.10/site-packages/numpy/core/_methods.py:121: RuntimeWarning: invalid value encountered in divide\n",
      "  ret = um.true_divide(\n"
     ]
    },
    {
     "name": "stdout",
     "output_type": "stream",
     "text": [
      "Loaded 96 demos from /home/j/workspace/genesis_sim2real/inthewild_trials\n",
      "234 (450, 7) -- 246 (1311, 7) -- 331 (1434, 7) -- 236 (339, 7) -- 307 (943, 7) -- 326 (483, 7) -- 263 (525, 7) -- 278 (334, 7) -- 310 (917, 7) -- 257 (504, 7) -- 260 (880, 7) -- 284 (657, 7) -- 239 (1378, 7) -- 295 (3116, 7) -- 248 (1531, 7) -- 277 (427, 7) -- 261 (706, 7) -- 305 (631, 7) -- 297 (569, 7) -- 322 (211, 7) -- 303 (1152, 7) -- 269 (2428, 7) -- 283 (660, 7) -- 318 (759, 7) -- 324 (324, 7) -- 321 (857, 7) -- 333 (2035, 7) -- 243 (286, 7) -- 273 (734, 7) -- 270 (1850, 7) -- 280 (362, 7) -- 237 (401, 7) -- 267 (886, 7) -- 301 (826, 7) -- 309 (877, 7) -- 259 (604, 7) -- 245 (1662, 7) -- 289 (301, 7) -- 253 (597, 7) -- 244 (524, 7) -- 300 (2385, 7) -- 252 (771, 7) -- 247 (868, 7) -- 268 (2538, 7) -- 265 (1464, 7) -- 328 (1383, 7) -- 279 (1000, 7) -- 302 (582, 7) -- 285 (418, 7) -- 288 (1664, 7) -- 250 (1675, 7) -- 266 (895, 7) -- 233 (463, 7) -- 314 (650, 7) -- 315 (1945, 7) -- 296 (1395, 7) -- 294 (2682, 7) -- 255 (687, 7) -- 274 (944, 7) -- 317 (723, 7) -- 312 (1433, 7) -- 232 (459, 7) -- 256 (1097, 7) -- 327 (687, 7) -- 258 (626, 7) -- 235 (442, 7) -- 238 (1275, 7) -- 240 (772, 7) -- 329 (709, 7) -- 304 (1040, 7) -- 290 (178, 7) -- 311 (650, 7) -- 320 (1329, 7) -- 298 (521, 7) -- 299 (1306, 7) -- 249 (1426, 7) -- 242 (515, 7) -- 254 (807, 7) -- 287 (2309, 7) -- 286 (1876, 7) -- 313 (747, 7) -- 293 (3071, 7) -- 275 (722, 7) -- 330 (1335, 7) -- 282 (255, 7) -- 316 (940, 7) -- 251 (792, 7) -- 262 (468, 7) -- 306 (1264, 7) -- 335 (624, 7) -- 276 (730, 7) -- 334 (572, 7) -- 308 (677, 7) -- 281 (520, 7) -- 325 (730, 7) -- 319 (1341, 7) -- \n",
      "Total samples: 94848\n"
     ]
    }
   ],
   "source": [
    "from demo_holder import GenesisDemoHolder\n",
    "from collections import defaultdict\n",
    "demo_player = GenesisDemoHolder(use_eef=False, subsample_ratio=args['subsample'])\n",
    "TRIAL_CAN_ADJUSTED = defaultdict(lambda: False)\n"
   ]
  },
  {
   "cell_type": "code",
   "execution_count": 5,
   "metadata": {},
   "outputs": [
    {
     "data": {
      "text/plain": [
       "234"
      ]
     },
     "execution_count": 5,
     "metadata": {},
     "output_type": "execute_result"
    }
   ],
   "source": [
    "demo_player.next_demo()\n"
   ]
  },
  {
   "cell_type": "code",
   "execution_count": 6,
   "metadata": {},
   "outputs": [
    {
     "name": "stdout",
     "output_type": "stream",
     "text": [
      "Reset current demo 234\n",
      "Sensed can position: tensor([ 0.4351, -0.1127,  0.0256]). Static offset: tensor([-0.0272,  0.0068,  0.0360])\n",
      "Opening gripper [INFO] [1747164927.616988]: Sending the gripper command...\n",
      "Done.\n",
      "\tMoving to [0.34551798719466237, -0.8454950565561763, 2.169129261535217, -1.232747441193471, 1.4586096006108726, -1.686383909690952]. Distance from target 1.0002463307940985\n",
      "[INFO] [1747164929.731530]: Moving to joint pose\n",
      "armpy::Moving to joint pose\n",
      "armpy::Waiting for joint pose to finish...it will not...so just returning (sketchy...)\n"
     ]
    },
    {
     "ename": "KeyboardInterrupt",
     "evalue": "",
     "output_type": "error",
     "traceback": [
      "\u001b[0;31m---------------------------------------------------------------------------\u001b[0m",
      "\u001b[0;31mKeyboardInterrupt\u001b[0m                         Traceback (most recent call last)",
      "Cell \u001b[0;32mIn[6], line 41\u001b[0m\n\u001b[1;32m     39\u001b[0m trial_id \u001b[38;5;241m=\u001b[39m demo_player\u001b[38;5;241m.\u001b[39mget_trial_id()\n\u001b[1;32m     40\u001b[0m TRIAL_CAN_ADJUSTED[trial_id] \u001b[38;5;241m=\u001b[39m \u001b[38;5;28;01mFalse\u001b[39;00m\n\u001b[0;32m---> 41\u001b[0m \u001b[43menv\u001b[49m\u001b[38;5;241;43m.\u001b[39;49m\u001b[43mreset\u001b[49m\u001b[43m(\u001b[49m\u001b[43mtrial_id\u001b[49m\u001b[38;5;241;43m=\u001b[39;49m\u001b[43mtrial_id\u001b[49m\u001b[43m)\u001b[49m\n\u001b[1;32m     42\u001b[0m action \u001b[38;5;241m=\u001b[39m demo_player\u001b[38;5;241m.\u001b[39mnext_action()[\u001b[38;5;124m'\u001b[39m\u001b[38;5;124maction\u001b[39m\u001b[38;5;124m'\u001b[39m]\n\u001b[1;32m     43\u001b[0m \u001b[38;5;28;01mwhile\u001b[39;00m action \u001b[38;5;129;01mis\u001b[39;00m \u001b[38;5;129;01mnot\u001b[39;00m \u001b[38;5;28;01mNone\u001b[39;00m:\n",
      "File \u001b[0;32m~/workspace/genesis_sim2real/genesis_sim2real/envs/genesis_gym.py:366\u001b[0m, in \u001b[0;36mGenesisGym.reset\u001b[0;34m(self, trial_id, **kwargs)\u001b[0m\n\u001b[1;32m    364\u001b[0m             \u001b[38;5;28mprint\u001b[39m(\u001b[38;5;124mf\u001b[39m\u001b[38;5;124m\"\u001b[39m\u001b[38;5;130;01m\\t\u001b[39;00m\u001b[38;5;124mMoving to \u001b[39m\u001b[38;5;132;01m{\u001b[39;00mtjp\u001b[38;5;132;01m}\u001b[39;00m\u001b[38;5;124m. Distance from target \u001b[39m\u001b[38;5;132;01m{\u001b[39;00mnp\u001b[38;5;241m.\u001b[39mlinalg\u001b[38;5;241m.\u001b[39mnorm(np\u001b[38;5;241m.\u001b[39marray(\u001b[38;5;28mself\u001b[39m\u001b[38;5;241m.\u001b[39mjoint_state\u001b[38;5;241m.\u001b[39mposition[:\u001b[38;5;241m6\u001b[39m])\u001b[38;5;250m \u001b[39m\u001b[38;5;241m-\u001b[39m\u001b[38;5;250m \u001b[39mnp\u001b[38;5;241m.\u001b[39marray(tjp))\u001b[38;5;132;01m}\u001b[39;00m\u001b[38;5;124m\"\u001b[39m)\n\u001b[1;32m    365\u001b[0m             \u001b[38;5;28mself\u001b[39m\u001b[38;5;241m.\u001b[39marm\u001b[38;5;241m.\u001b[39mgoto_joint_pose(tjp, radians\u001b[38;5;241m=\u001b[39m\u001b[38;5;28;01mTrue\u001b[39;00m, block\u001b[38;5;241m=\u001b[39m\u001b[38;5;28;01mFalse\u001b[39;00m)\n\u001b[0;32m--> 366\u001b[0m             \u001b[43mrospy\u001b[49m\u001b[38;5;241;43m.\u001b[39;49m\u001b[43msleep\u001b[49m\u001b[43m(\u001b[49m\u001b[38;5;241;43m5.0\u001b[39;49m\u001b[43m)\u001b[49m\n\u001b[1;32m    369\u001b[0m \u001b[38;5;28;01mreturn\u001b[39;00m ret\n",
      "File \u001b[0;32m/opt/ros/noetic/lib/python3/dist-packages/rospy/timer.py:134\u001b[0m, in \u001b[0;36msleep\u001b[0;34m(duration)\u001b[0m\n\u001b[1;32m    132\u001b[0m         \u001b[38;5;28;01mreturn\u001b[39;00m\n\u001b[1;32m    133\u001b[0m     \u001b[38;5;28;01melse\u001b[39;00m:\n\u001b[0;32m--> 134\u001b[0m         \u001b[43mrospy\u001b[49m\u001b[38;5;241;43m.\u001b[39;49m\u001b[43mrostime\u001b[49m\u001b[38;5;241;43m.\u001b[39;49m\u001b[43mwallsleep\u001b[49m\u001b[43m(\u001b[49m\u001b[43mduration\u001b[49m\u001b[43m)\u001b[49m\n\u001b[1;32m    135\u001b[0m \u001b[38;5;28;01melse\u001b[39;00m:\n\u001b[1;32m    136\u001b[0m     initial_rostime \u001b[38;5;241m=\u001b[39m rospy\u001b[38;5;241m.\u001b[39mrostime\u001b[38;5;241m.\u001b[39mget_rostime()\n",
      "File \u001b[0;32m/opt/ros/noetic/lib/python3/dist-packages/rospy/rostime.py:277\u001b[0m, in \u001b[0;36mwallsleep\u001b[0;34m(duration)\u001b[0m\n\u001b[1;32m    275\u001b[0m         \u001b[38;5;28;01mpass\u001b[39;00m\n\u001b[1;32m    276\u001b[0m \u001b[38;5;28;01melse\u001b[39;00m:\n\u001b[0;32m--> 277\u001b[0m     \u001b[43mtime\u001b[49m\u001b[38;5;241;43m.\u001b[39;49m\u001b[43msleep\u001b[49m\u001b[43m(\u001b[49m\u001b[43mduration\u001b[49m\u001b[43m)\u001b[49m\n",
      "\u001b[0;31mKeyboardInterrupt\u001b[0m: "
     ]
    }
   ],
   "source": [
    "from genesis_gym import PZ\n",
    "import time\n",
    "demo_player.reset_current_demo()\n",
    "env.scene.clear_debug_objects()\n",
    "\n",
    "\n",
    "def get_grip_pose(env):\n",
    "    # get the average position of the fingertips\n",
    "    left_fingertip = env.kinova.get_link('left_finger_prox_link').get_pos().cpu().numpy()\n",
    "    right_fingertip = env.kinova.get_link('right_finger_prox_link').get_pos().cpu().numpy()\n",
    "    env.scene.draw_debug_sphere(left_fingertip, 0.01, color=(0, 1, 0))\n",
    "    env.scene.draw_debug_sphere(right_fingertip, 0.01, color=(0, 1, 0))\n",
    "    average_fingertip = np.mean([left_fingertip, right_fingertip], axis=0)\n",
    "\n",
    "    offset_magnitude = 0.04\n",
    "    # Get the end effector orientation in the world frame\n",
    "    q = env.kinova.get_link('end_effector_link').get_quat().cpu().numpy()\n",
    "    # Convert quaternion to rotation matrix\n",
    "    \"\"\"Converts quaternion to 3x3 rotation matrix.\"\"\"\n",
    "    d = q.dot(q)\n",
    "    w, x, y, z = q\n",
    "    s = 2 / d\n",
    "    xs, ys, zs = x * s, y * s, z * s\n",
    "    wx, wy, wz = w * xs, w * ys, w * zs\n",
    "    xx, xy, xz = x * xs, x * ys, x * zs\n",
    "    yy, yz, zz = y * ys, y * zs, z * zs\n",
    "\n",
    "    R = np.array([[1 - (yy + zz), xy - wz, xz + wy], [xy + wz, 1 - (xx + zz), yz - wx], [xz - wy, yz + wx, 1 - (xx + yy)]])\n",
    "\n",
    "    # Forward direction is the x-axis in the end effector frame\n",
    "    forward_dir = R @ np.array([1, 0, 0])\n",
    "    # Scale by offset magnitude and add to average fingertip position\n",
    "    ret = average_fingertip + forward_dir * offset_magnitude\n",
    "    env.scene.draw_debug_sphere(ret, 0.01, color=(1, 0, 0))\n",
    "    env.scene.draw_debug_arrow(average_fingertip, ret - average_fingertip, radius=0.01, color=(1, 0, 0, 0.5))\n",
    "    return ret\n",
    "    # return np.mean([left_fingertip, right_fingertip], axis=0) + [0.04, 0., 0.]\n",
    "\n",
    "trial_id = demo_player.get_trial_id()\n",
    "TRIAL_CAN_ADJUSTED[trial_id] = False\n",
    "env.reset(trial_id=trial_id)\n",
    "action = demo_player.next_action()['action']\n",
    "while action is not None:\n",
    "    obs, reward, done, info = env.step(action)\n",
    "    if args['vis']:\n",
    "        env.render()\n",
    "\n",
    "    # get the gripper position\n",
    "    # print(f\"action: {action[-1]:+1.2f} {obs['state'][-1]:+1.2f}\", end=' ')\n",
    "\n",
    "\n",
    "    # if the gripper action is closing and the can is nearby, move the can and restart the demo\n",
    "    gripper_pos = env.kinova.get_link('end_effector_link').get_pos().cpu().numpy()\n",
    "    can_pose = env.bottle.get_pos().cpu().numpy()\n",
    "    dp = np.linalg.norm(gripper_pos - can_pose)\n",
    "    if action[-1] > 50 and dp < 0.2 and not TRIAL_CAN_ADJUSTED[trial_id] and gripper_pos[2] < 0.12:\n",
    "        print(\"Gripper closing and can is nearby, restarting demo and setting can to gripper pose\")\n",
    "        print(f\"{action[-1]:+1.2f} {dp:+1.2f} {gripper_pos[2]:+1.2f} < 0.12\")\n",
    "        # get the average pos of the last 4 links \n",
    "        grip_pos = get_grip_pose(env)\n",
    "        grip_pos[-1] = PZ\n",
    "        # make a debug sphere\n",
    "        debug_arrow = env.scene.draw_debug_arrow(pos=gripper_pos, vec=grip_pos - gripper_pos, radius=0.01, color=(1, 0, 0, 0.5))  # Green\n",
    "        env.scene.draw_debug_sphere(gripper_pos, 0.01, color=(0, 1, 1))\n",
    "        env.scene.draw_debug_sphere(grip_pos, 0.01, color=(0, 0, 1))\n",
    "        env.reset(trial_id=trial_id)\n",
    "        demo_player.reset_current_demo()\n",
    "\n",
    "        for _ in range(10):\n",
    "            env.scene.step() # let the arm get back before we reset the can\n",
    "\n",
    "        env.set_can_to_pose(torch.Tensor(grip_pos))\n",
    "        TRIAL_CAN_ADJUSTED[trial_id] = True\n",
    "\n",
    "        time.sleep(10)\n",
    "\n",
    "        env.scene.step()\n",
    "\n",
    "    action = demo_player.next_action()\n",
    "    action = action['action'] if action is not None else None\n",
    "    if done:\n",
    "        break\n",
    "\n",
    "\n"
   ]
  },
  {
   "cell_type": "code",
   "execution_count": null,
   "metadata": {},
   "outputs": [],
   "source": [
    "demo_player.reset_current_demo()\n",
    "env.reset(trial_id=trial_id)\n",
    "env.step(demo_player.next_action()['action'])\n"
   ]
  },
  {
   "cell_type": "code",
   "execution_count": null,
   "metadata": {},
   "outputs": [],
   "source": [
    "links = list(env.kinova.links)\n",
    "for i, link in enumerate(links):\n",
    "    print(f\"{i}: {link.name}\")\n",
    "\n",
    "positions = []\n",
    "for i, link in enumerate(links):\n",
    "    if 'finger' in link.name and 'prox' not in link.name:\n",
    "        positions.append(link.get_pos().cpu().numpy())\n",
    "\n",
    "\n",
    "# get the average position of the fingertips\n",
    "print(np.mean(positions, axis=0))\n",
    "\n",
    "env.scene.draw_debug_sphere(np.mean(positions, axis=0), 0.01, color=(0, 1, 0))"
   ]
  }
 ],
 "metadata": {
  "kernelspec": {
   "display_name": "venv",
   "language": "python",
   "name": "python3"
  },
  "language_info": {
   "codemirror_mode": {
    "name": "ipython",
    "version": 3
   },
   "file_extension": ".py",
   "mimetype": "text/x-python",
   "name": "python",
   "nbconvert_exporter": "python",
   "pygments_lexer": "ipython3",
   "version": "3.10.15"
  }
 },
 "nbformat": 4,
 "nbformat_minor": 2
}
