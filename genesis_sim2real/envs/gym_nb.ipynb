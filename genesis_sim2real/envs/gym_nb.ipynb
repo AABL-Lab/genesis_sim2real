{
 "cells": [
  {
   "cell_type": "code",
   "execution_count": 1,
   "metadata": {},
   "outputs": [],
   "source": [
    "%matplotlib inline\n",
    "%load_ext autoreload\n",
    "%autoreload 2\n"
   ]
  },
  {
   "cell_type": "code",
   "execution_count": 2,
   "metadata": {},
   "outputs": [
    {
     "name": "stderr",
     "output_type": "stream",
     "text": [
      "[I 05/02/25 16:56:28.267 386026] [shell.py:_shell_pop_print@23] Graphical python shell detected, using wrapped sys.stdout\n"
     ]
    }
   ],
   "source": [
    "import genesis as gs\n",
    "# show the iamge\n",
    "import matplotlib.pyplot as plt\n",
    "import matplotlib.image as mpimg\n",
    "from genesis_gym import GenesisGym"
   ]
  },
  {
   "cell_type": "code",
   "execution_count": null,
   "metadata": {},
   "outputs": [
    {
     "name": "stdout",
     "output_type": "stream",
     "text": [
      "GenesisGym Task=lift args: {'rho': 2000, 'radius': 0.034, 'height': 0.09, 'friction': 0.5, 'vis': True, 'grayscale': False, 'time_limit': 4000, 'env_name': 'lift'}\n",
      "Joint 'right_finger_tip_joint' mimics 'right_finger_bottom_joint' with multiplier -0.676 and offset -0.05\n",
      "Joint 'left_finger_bottom_joint' mimics 'right_finger_bottom_joint' with multiplier -1.0 and offset 0.0\n",
      "Joint 'left_finger_tip_joint' mimics 'right_finger_bottom_joint' with multiplier -0.676 and offset -0.05\n"
     ]
    },
    {
     "name": "stderr",
     "output_type": "stream",
     "text": [
      "[W 05/02/25 16:56:37.291 386026] [frontend_ir.cpp:begin_frontend_struct_for_on_external_tensor@1694] ti.loop_config(serialize=True) does not have effect on the struct for. The execution order is not guaranteed.\n"
     ]
    }
   ],
   "source": [
    "import random\n",
    "import pathlib as pl\n",
    "import numpy as np\n",
    "import os, sys\n",
    "import torch\n",
    "\n",
    "## Default Args\n",
    "DEFAULT_RADIUS = 0.034 # 0032\n",
    "DEFAULT_HEIGHT = 0.09 # 0.1\n",
    "DEFAULT_RHO = 2000\n",
    "DEFAULT_FRICTION = 0.5\n",
    "DEFAULT_STARTING_X = 0.65\n",
    "    # parser = argparse.ArgumentParser(description='Genesis Gym Environment')\n",
    "    # parser.add_argument('--vis', action='store_true', help='Enable visualization')\n",
    "    # parser.add_argument('--radius', type=float, default=DEFAULT_RADIUS, help='Bottle radius')\n",
    "    # parser.add_argument('-e', '--height', type=float, default=DEFAULT_HEIGHT, help='Bottle height')\n",
    "    # parser.add_argument('-o', '--rho', type=float, default=DEFAULT_RHO, help='Density of the bottle')\n",
    "    # parser.add_argument('--friction', type=float, default=DEFAULT_FRICTION, help='Friction of the bottle')\n",
    "    # parser.add_argument('--starting_x', type=float, default=DEFAULT_STARTING_X, help='Starting x position of the bottle')\n",
    "    # parser.add_argument('--max-demos', type=int, default=1e7, help='Max number of demos to load')\n",
    "    # parser.add_argument('--random-agent', action='store_true', help='Use a random agent')\n",
    "    # parser.add_argument('--subsample', type=int, default=2, help='Subsample ratio for the demos')\n",
    "    # parser.add_argument('--env-name', type=str, default='lift', help='Environment name')\n",
    "    # args = parser.parse_args()\n",
    "\n",
    "args = {\n",
    "    'vis': True,\n",
    "    'radius': DEFAULT_RADIUS,\n",
    "    'height': DEFAULT_HEIGHT,\n",
    "    'rho': DEFAULT_RHO,\n",
    "    'friction': DEFAULT_FRICTION,\n",
    "    'starting_x': DEFAULT_STARTING_X,\n",
    "    'max_demos': 1e7,\n",
    "    'random_agent': False,\n",
    "    'subsample': 2,\n",
    "    'env_name': 'lift',\n",
    "}\n",
    "\n",
    "env = GenesisGym(**args)\n",
    "obs = env.reset()"
   ]
  },
  {
   "cell_type": "code",
   "execution_count": null,
   "metadata": {},
   "outputs": [
    {
     "name": "stdout",
     "output_type": "stream",
     "text": [
      "Loaded 96 demos from /home/j/workspace/genesis_sim2real/inthewild_trials\n",
      "234 (450, 7) -- 246 (1311, 7) -- 331 (1434, 7) -- 236 (339, 7) -- 307 (943, 7) -- 326 (483, 7) -- 263 (525, 7) -- 278 (334, 7) -- 310 (917, 7) -- 257 (504, 7) -- 260 (880, 7) -- 284 (657, 7) -- 239 (1378, 7) -- 295 (3116, 7) -- 248 (1531, 7) -- 277 (427, 7) -- 261 (706, 7) -- 305 (631, 7) -- 297 (569, 7) -- 322 (211, 7) -- 303 (1152, 7) -- 269 (2428, 7) -- 283 (660, 7) -- 318 (759, 7) -- 324 (324, 7) -- 321 (857, 7) -- 333 (2035, 7) -- 243 (286, 7) -- 273 (734, 7) -- 270 (1850, 7) -- 280 (362, 7) -- 237 (401, 7) -- 267 (886, 7) -- 301 (826, 7) -- 309 (877, 7) -- 259 (604, 7) -- 245 (1662, 7) -- 289 (301, 7) -- 253 (597, 7) -- 244 (524, 7) -- 300 (2385, 7) -- 252 (771, 7) -- 247 (868, 7) -- 268 (2538, 7) -- 265 (1464, 7) -- 328 (1383, 7) -- 279 (1000, 7) -- 302 (582, 7) -- 285 (418, 7) -- 288 (1664, 7) -- 250 (1675, 7) -- 266 (895, 7) -- 233 (463, 7) -- 314 (650, 7) -- 315 (1945, 7) -- 296 (1395, 7) -- 294 (2682, 7) -- 255 (687, 7) -- 274 (944, 7) -- 317 (723, 7) -- 312 (1433, 7) -- 232 (459, 7) -- 256 (1097, 7) -- 327 (687, 7) -- 258 (626, 7) -- 235 (442, 7) -- 238 (1275, 7) -- 240 (772, 7) -- 329 (709, 7) -- 304 (1040, 7) -- 290 (178, 7) -- 311 (650, 7) -- 320 (1329, 7) -- 298 (521, 7) -- 299 (1306, 7) -- 249 (1426, 7) -- 242 (515, 7) -- 254 (807, 7) -- 287 (2309, 7) -- 286 (1876, 7) -- 313 (747, 7) -- 293 (3071, 7) -- 275 (722, 7) -- 330 (1335, 7) -- 282 (255, 7) -- 316 (940, 7) -- 251 (792, 7) -- 262 (468, 7) -- 306 (1264, 7) -- 335 (624, 7) -- 276 (730, 7) -- 334 (572, 7) -- 308 (677, 7) -- 281 (520, 7) -- 325 (730, 7) -- 319 (1341, 7) -- \n",
      "Total samples: 94848\n",
      "Reset current demo 234\n",
      "Gripper closing and can is nearby, restarting demo and setting can to gripper pose\n",
      "SUCCESS!\n"
     ]
    }
   ],
   "source": [
    "from demo_holder import GenesisDemoHolder\n",
    "from collections import defaultdict\n",
    "demo_player = GenesisDemoHolder(use_eef=False, subsample_ratio=args['subsample'])\n",
    "TRIAL_CAN_ADJUSTED = defaultdict(lambda: False)\n"
   ]
  },
  {
   "cell_type": "code",
   "execution_count": 18,
   "metadata": {},
   "outputs": [
    {
     "name": "stdout",
     "output_type": "stream",
     "text": [
      "Demo 307 loaded\n",
      "Reset current demo 307\n",
      "Gripper closing and can is nearby, restarting demo and setting can to gripper pose\n",
      "gym sees action [ 0.32674896 -1.44796388  2.34413996 -1.35127675  2.20845376 -1.51285659\n",
      "  3.70715904] +0.3, -1.4, +2.3, -1.4, +2.2, -1.5, +3.7\n"
     ]
    },
    {
     "ename": "TypeError",
     "evalue": "'NoneType' object is not subscriptable",
     "output_type": "error",
     "traceback": [
      "\u001b[0;31m---------------------------------------------------------------------------\u001b[0m",
      "\u001b[0;31mTypeError\u001b[0m                                 Traceback (most recent call last)",
      "Cell \u001b[0;32mIn[18], line 18\u001b[0m\n\u001b[1;32m     16\u001b[0m can_pose \u001b[38;5;241m=\u001b[39m env\u001b[38;5;241m.\u001b[39mbottle\u001b[38;5;241m.\u001b[39mget_pos()\u001b[38;5;241m.\u001b[39mcpu()\u001b[38;5;241m.\u001b[39mnumpy()\n\u001b[1;32m     17\u001b[0m dp \u001b[38;5;241m=\u001b[39m np\u001b[38;5;241m.\u001b[39mlinalg\u001b[38;5;241m.\u001b[39mnorm(gripper_pos \u001b[38;5;241m-\u001b[39m can_pose)\n\u001b[0;32m---> 18\u001b[0m \u001b[38;5;28;01mif\u001b[39;00m \u001b[43maction\u001b[49m\u001b[43m[\u001b[49m\u001b[38;5;241;43m-\u001b[39;49m\u001b[38;5;241;43m1\u001b[39;49m\u001b[43m]\u001b[49m \u001b[38;5;241m>\u001b[39m \u001b[38;5;241m0.5\u001b[39m \u001b[38;5;129;01mand\u001b[39;00m dp \u001b[38;5;241m<\u001b[39m \u001b[38;5;241m0.2\u001b[39m \u001b[38;5;129;01mand\u001b[39;00m \u001b[38;5;129;01mnot\u001b[39;00m TRIAL_CAN_ADJUSTED[trial_id] \u001b[38;5;129;01mand\u001b[39;00m gripper_pos[\u001b[38;5;241m2\u001b[39m] \u001b[38;5;241m<\u001b[39m \u001b[38;5;241m0.5\u001b[39m:\n\u001b[1;32m     19\u001b[0m     \u001b[38;5;66;03m# get the average pos of the last 4 links \u001b[39;00m\n\u001b[1;32m     20\u001b[0m     grip_pos \u001b[38;5;241m=\u001b[39m env\u001b[38;5;241m.\u001b[39mget_grip_pose() \u001b[38;5;241m+\u001b[39m [\u001b[38;5;241m0.05\u001b[39m, \u001b[38;5;241m0\u001b[39m, \u001b[38;5;241m0\u001b[39m]\n\u001b[1;32m     21\u001b[0m     env\u001b[38;5;241m.\u001b[39mreset(trial_id\u001b[38;5;241m=\u001b[39mtrial_id)\n",
      "\u001b[0;31mTypeError\u001b[0m: 'NoneType' object is not subscriptable"
     ]
    }
   ],
   "source": [
    "\n",
    "demo_player.next_demo()\n",
    "trial_id = demo_player.get_trial_id()\n",
    "env.reset(trial_id=trial_id)\n",
    "action = demo_player.next_action()['action']\n",
    "while action is not None:\n",
    "    obs, reward, done, info = env.step(action)\n",
    "    if args['vis']:\n",
    "        env.render()\n",
    "    action = demo_player.next_action()\n",
    "    action = action['action'] if action is not None else None\n",
    "    if done:\n",
    "        break\n",
    "\n",
    "\n",
    "    gripper_pos = env.kinova.get_link('end_effector_link').get_pos().cpu().numpy()\n",
    "    can_pose = env.bottle.get_pos().cpu().numpy()\n",
    "    dp = np.linalg.norm(gripper_pos - can_pose)\n",
    "    if action[-1] > 0.5 and dp < 0.2 and not TRIAL_CAN_ADJUSTED[trial_id] and gripper_pos[2] < 0.5:\n",
    "        # get the average pos of the last 4 links \n",
    "        grip_pos = env.get_grip_pose() + [0.05, 0, 0]\n",
    "        env.reset(trial_id=trial_id)\n",
    "        demo_player.reset_current_demo()\n",
    "        env.set_can_to_pose(torch.Tensor(grip_pos))\n",
    "        print(\"Gripper closing and can is nearby, restarting demo and setting can to gripper pose\")\n",
    "        TRIAL_CAN_ADJUSTED[trial_id] = True"
   ]
  }
 ],
 "metadata": {
  "kernelspec": {
   "display_name": "venv",
   "language": "python",
   "name": "python3"
  },
  "language_info": {
   "codemirror_mode": {
    "name": "ipython",
    "version": 3
   },
   "file_extension": ".py",
   "mimetype": "text/x-python",
   "name": "python",
   "nbconvert_exporter": "python",
   "pygments_lexer": "ipython3",
   "version": "3.10.15"
  }
 },
 "nbformat": 4,
 "nbformat_minor": 2
}
