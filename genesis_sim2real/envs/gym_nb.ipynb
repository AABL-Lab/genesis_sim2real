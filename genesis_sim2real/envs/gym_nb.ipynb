{
 "cells": [
  {
   "cell_type": "code",
   "execution_count": 1,
   "metadata": {},
   "outputs": [],
   "source": [
    "%matplotlib inline\n",
    "%load_ext autoreload\n",
    "%autoreload 2\n"
   ]
  },
  {
   "cell_type": "code",
   "execution_count": 2,
   "metadata": {},
   "outputs": [
    {
     "name": "stderr",
     "output_type": "stream",
     "text": [
      "[I 05/03/25 18:46:52.181 28400] [shell.py:_shell_pop_print@23] Graphical python shell detected, using wrapped sys.stdout\n"
     ]
    }
   ],
   "source": [
    "import genesis as gs\n",
    "# show the iamge\n",
    "import matplotlib.pyplot as plt\n",
    "import matplotlib.image as mpimg\n",
    "from genesis_gym import GenesisGym"
   ]
  },
  {
   "cell_type": "code",
   "execution_count": 3,
   "metadata": {},
   "outputs": [
    {
     "name": "stdout",
     "output_type": "stream",
     "text": [
      "GenesisGym Task=lift args: {'rho': 2000, 'radius': 0.034, 'height': 0.09, 'friction': 0.5, 'vis': True, 'grayscale': False, 'time_limit': 4000, 'env_name': 'lift'}\n",
      "Joint 'right_finger_tip_joint' mimics 'right_finger_bottom_joint' with multiplier -0.676 and offset -0.05\n",
      "Joint 'left_finger_bottom_joint' mimics 'right_finger_bottom_joint' with multiplier -1.0 and offset 0.0\n",
      "Joint 'left_finger_tip_joint' mimics 'right_finger_bottom_joint' with multiplier -0.676 and offset -0.05\n",
      "\u001b[38;5;226m[Genesis] [18:46:57] [WARNING] This property is deprecated and will be removed in future release. Please use 'dof_idx_local' instead.\u001b[0m\n",
      "\u001b[38;5;226m[Genesis] [18:46:57] [WARNING] This property is deprecated and will be removed in future release. Please use 'dof_idx_local' instead.\u001b[0m\n",
      "\u001b[38;5;226m[Genesis] [18:46:57] [WARNING] This property is deprecated and will be removed in future release. Please use 'dof_idx_local' instead.\u001b[0m\n",
      "\u001b[38;5;226m[Genesis] [18:46:57] [WARNING] This property is deprecated and will be removed in future release. Please use 'dof_idx_local' instead.\u001b[0m\n",
      "\u001b[38;5;226m[Genesis] [18:46:57] [WARNING] This property is deprecated and will be removed in future release. Please use 'dof_idx_local' instead.\u001b[0m\n",
      "\u001b[38;5;226m[Genesis] [18:46:57] [WARNING] This property is deprecated and will be removed in future release. Please use 'dof_idx_local' instead.\u001b[0m\n",
      "\u001b[38;5;226m[Genesis] [18:46:57] [WARNING] This property is deprecated and will be removed in future release. Please use 'dof_idx_local' instead.\u001b[0m\n",
      "\u001b[38;5;226m[Genesis] [18:46:57] [WARNING] This property is deprecated and will be removed in future release. Please use 'dof_idx_local' instead.\u001b[0m\n",
      "\u001b[38;5;226m[Genesis] [18:46:57] [WARNING] This property is deprecated and will be removed in future release. Please use 'dof_idx_local' instead.\u001b[0m\n",
      "\u001b[38;5;226m[Genesis] [18:46:57] [WARNING] This property is deprecated and will be removed in future release. Please use 'dof_idx_local' instead.\u001b[0m\n"
     ]
    },
    {
     "name": "stderr",
     "output_type": "stream",
     "text": [
      "[W 05/03/25 18:47:01.768 28400] [frontend_ir.cpp:begin_frontend_struct_for_on_external_tensor@1694] ti.loop_config(serialize=True) does not have effect on the struct for. The execution order is not guaranteed.\n"
     ]
    }
   ],
   "source": [
    "import random\n",
    "import pathlib as pl\n",
    "import numpy as np\n",
    "import os, sys\n",
    "import torch\n",
    "\n",
    "## Default Args\n",
    "DEFAULT_RADIUS = 0.034 # 0032\n",
    "DEFAULT_HEIGHT = 0.09 # 0.1\n",
    "DEFAULT_RHO = 2000\n",
    "DEFAULT_FRICTION = 0.5\n",
    "DEFAULT_STARTING_X = 0.65\n",
    "    # parser = argparse.ArgumentParser(description='Genesis Gym Environment')\n",
    "    # parser.add_argument('--vis', action='store_true', help='Enable visualization')\n",
    "    # parser.add_argument('--radius', type=float, default=DEFAULT_RADIUS, help='Bottle radius')\n",
    "    # parser.add_argument('-e', '--height', type=float, default=DEFAULT_HEIGHT, help='Bottle height')\n",
    "    # parser.add_argument('-o', '--rho', type=float, default=DEFAULT_RHO, help='Density of the bottle')\n",
    "    # parser.add_argument('--friction', type=float, default=DEFAULT_FRICTION, help='Friction of the bottle')\n",
    "    # parser.add_argument('--starting_x', type=float, default=DEFAULT_STARTING_X, help='Starting x position of the bottle')\n",
    "    # parser.add_argument('--max-demos', type=int, default=1e7, help='Max number of demos to load')\n",
    "    # parser.add_argument('--random-agent', action='store_true', help='Use a random agent')\n",
    "    # parser.add_argument('--subsample', type=int, default=2, help='Subsample ratio for the demos')\n",
    "    # parser.add_argument('--env-name', type=str, default='lift', help='Environment name')\n",
    "    # args = parser.parse_args()\n",
    "\n",
    "args = {\n",
    "    'vis': True,\n",
    "    'radius': DEFAULT_RADIUS,\n",
    "    'height': DEFAULT_HEIGHT,\n",
    "    'rho': DEFAULT_RHO,\n",
    "    'friction': DEFAULT_FRICTION,\n",
    "    'starting_x': DEFAULT_STARTING_X,\n",
    "    'max_demos': 1e7,\n",
    "    'random_agent': False,\n",
    "    'subsample': 2,\n",
    "    'env_name': 'lift',\n",
    "}\n",
    "\n",
    "env = GenesisGym(**args)\n",
    "obs = env.reset()"
   ]
  },
  {
   "cell_type": "code",
   "execution_count": 4,
   "metadata": {},
   "outputs": [
    {
     "name": "stderr",
     "output_type": "stream",
     "text": [
      "/home/james/workspace/genesis_sim2real/venv/lib/python3.10/site-packages/numpy/core/fromnumeric.py:3504: RuntimeWarning: Mean of empty slice.\n",
      "  return _methods._mean(a, axis=axis, dtype=dtype,\n",
      "/home/james/workspace/genesis_sim2real/venv/lib/python3.10/site-packages/numpy/core/_methods.py:121: RuntimeWarning: invalid value encountered in divide\n",
      "  ret = um.true_divide(\n"
     ]
    },
    {
     "name": "stdout",
     "output_type": "stream",
     "text": [
      "Loaded 96 demos from /home/james/workspace/genesis_sim2real/inthewild_trials\n",
      "260 (880, 7) -- 250 (1675, 7) -- 290 (178, 7) -- 281 (520, 7) -- 309 (877, 7) -- 296 (1395, 7) -- 313 (747, 7) -- 266 (895, 7) -- 334 (572, 7) -- 252 (771, 7) -- 329 (709, 7) -- 298 (521, 7) -- 253 (597, 7) -- 299 (1306, 7) -- 335 (624, 7) -- 295 (3116, 7) -- 326 (483, 7) -- 304 (1040, 7) -- 278 (334, 7) -- 257 (504, 7) -- 236 (339, 7) -- 308 (677, 7) -- 234 (450, 7) -- 261 (706, 7) -- 282 (255, 7) -- 318 (759, 7) -- 286 (1876, 7) -- 284 (657, 7) -- 235 (442, 7) -- 269 (2428, 7) -- 244 (524, 7) -- 297 (569, 7) -- 333 (2035, 7) -- 307 (943, 7) -- 283 (660, 7) -- 301 (826, 7) -- 276 (730, 7) -- 316 (940, 7) -- 327 (687, 7) -- 245 (1662, 7) -- 233 (463, 7) -- 305 (631, 7) -- 321 (857, 7) -- 310 (917, 7) -- 328 (1383, 7) -- 254 (807, 7) -- 288 (1664, 7) -- 279 (1000, 7) -- 315 (1945, 7) -- 289 (301, 7) -- 302 (582, 7) -- 285 (418, 7) -- 246 (1311, 7) -- 242 (515, 7) -- 317 (723, 7) -- 239 (1378, 7) -- 240 (772, 7) -- 237 (401, 7) -- 324 (324, 7) -- 280 (362, 7) -- 251 (792, 7) -- 258 (626, 7) -- 293 (3071, 7) -- 232 (459, 7) -- 277 (427, 7) -- 256 (1097, 7) -- 263 (525, 7) -- 255 (687, 7) -- 270 (1850, 7) -- 248 (1531, 7) -- 265 (1464, 7) -- 311 (650, 7) -- 247 (868, 7) -- 274 (944, 7) -- 259 (604, 7) -- 275 (722, 7) -- 243 (286, 7) -- 325 (730, 7) -- 320 (1329, 7) -- 294 (2682, 7) -- 238 (1275, 7) -- 267 (886, 7) -- 312 (1433, 7) -- 306 (1264, 7) -- 322 (211, 7) -- 268 (2538, 7) -- 319 (1341, 7) -- 273 (734, 7) -- 330 (1335, 7) -- 331 (1434, 7) -- 303 (1152, 7) -- 249 (1426, 7) -- 287 (2309, 7) -- 314 (650, 7) -- 262 (468, 7) -- 300 (2385, 7) -- \n",
      "Total samples: 94848\n"
     ]
    }
   ],
   "source": [
    "from demo_holder import GenesisDemoHolder\n",
    "from collections import defaultdict\n",
    "demo_player = GenesisDemoHolder(use_eef=False, subsample_ratio=args['subsample'])\n",
    "TRIAL_CAN_ADJUSTED = defaultdict(lambda: False)\n"
   ]
  },
  {
   "cell_type": "code",
   "execution_count": 15,
   "metadata": {},
   "outputs": [
    {
     "name": "stdout",
     "output_type": "stream",
     "text": [
      "Demo 281 loaded. 520 actions.\n"
     ]
    },
    {
     "data": {
      "text/plain": [
       "281"
      ]
     },
     "execution_count": 15,
     "metadata": {},
     "output_type": "execute_result"
    }
   ],
   "source": [
    "demo_player.next_demo()\n"
   ]
  },
  {
   "cell_type": "code",
   "execution_count": 16,
   "metadata": {},
   "outputs": [
    {
     "name": "stdout",
     "output_type": "stream",
     "text": [
      "Reset current demo 281\n",
      "Gripper closing and can is nearby, restarting demo and setting can to gripper pose\n",
      "+51.51 +0.18 +0.09 < 0.12\n",
      "Reset current demo 281\n",
      "gym sees action [-0.77015956 -1.22016054  2.11839311 -2.49952076  1.68985321 -1.80453372\n",
      " 37.33002853] -0.8, -1.2, +2.1, -2.5, +1.7, -1.8, +37.3\n"
     ]
    }
   ],
   "source": [
    "from genesis_gym import PZ\n",
    "import time\n",
    "demo_player.reset_current_demo()\n",
    "env.scene.clear_debug_objects()\n",
    "\n",
    "\n",
    "def get_grip_pose(env):\n",
    "    # get the average position of the fingertips\n",
    "    left_fingertip = env.kinova.get_link('left_finger_prox_link').get_pos().cpu().numpy()\n",
    "    right_fingertip = env.kinova.get_link('right_finger_prox_link').get_pos().cpu().numpy()\n",
    "    env.scene.draw_debug_sphere(left_fingertip, 0.01, color=(0, 1, 0))\n",
    "    env.scene.draw_debug_sphere(right_fingertip, 0.01, color=(0, 1, 0))\n",
    "    average_fingertip = np.mean([left_fingertip, right_fingertip], axis=0)\n",
    "\n",
    "    offset_magnitude = 0.04\n",
    "    # Get the end effector orientation in the world frame\n",
    "    q = env.kinova.get_link('end_effector_link').get_quat().cpu().numpy()\n",
    "    # Convert quaternion to rotation matrix\n",
    "    \"\"\"Converts quaternion to 3x3 rotation matrix.\"\"\"\n",
    "    d = q.dot(q)\n",
    "    w, x, y, z = q\n",
    "    s = 2 / d\n",
    "    xs, ys, zs = x * s, y * s, z * s\n",
    "    wx, wy, wz = w * xs, w * ys, w * zs\n",
    "    xx, xy, xz = x * xs, x * ys, x * zs\n",
    "    yy, yz, zz = y * ys, y * zs, z * zs\n",
    "\n",
    "    R = np.array([[1 - (yy + zz), xy - wz, xz + wy], [xy + wz, 1 - (xx + zz), yz - wx], [xz - wy, yz + wx, 1 - (xx + yy)]])\n",
    "\n",
    "    # Forward direction is the x-axis in the end effector frame\n",
    "    forward_dir = R @ np.array([1, 0, 0])\n",
    "    # Scale by offset magnitude and add to average fingertip position\n",
    "    ret = average_fingertip + forward_dir * offset_magnitude\n",
    "    env.scene.draw_debug_sphere(ret, 0.01, color=(1, 0, 0))\n",
    "    env.scene.draw_debug_arrow(average_fingertip, ret - average_fingertip, radius=0.01, color=(1, 0, 0, 0.5))\n",
    "    return ret\n",
    "    # return np.mean([left_fingertip, right_fingertip], axis=0) + [0.04, 0., 0.]\n",
    "\n",
    "trial_id = demo_player.get_trial_id()\n",
    "TRIAL_CAN_ADJUSTED[trial_id] = False\n",
    "env.reset(trial_id=trial_id)\n",
    "action = demo_player.next_action()['action']\n",
    "while action is not None:\n",
    "    obs, reward, done, info = env.step(action)\n",
    "    if args['vis']:\n",
    "        env.render()\n",
    "\n",
    "    # get the gripper position\n",
    "    # print(f\"action: {action[-1]:+1.2f} {obs['state'][-1]:+1.2f}\", end=' ')\n",
    "\n",
    "\n",
    "    # if the gripper action is closing and the can is nearby, move the can and restart the demo\n",
    "    gripper_pos = env.kinova.get_link('end_effector_link').get_pos().cpu().numpy()\n",
    "    can_pose = env.bottle.get_pos().cpu().numpy()\n",
    "    dp = np.linalg.norm(gripper_pos - can_pose)\n",
    "    if action[-1] > 50 and dp < 0.2 and not TRIAL_CAN_ADJUSTED[trial_id] and gripper_pos[2] < 0.12:\n",
    "        print(\"Gripper closing and can is nearby, restarting demo and setting can to gripper pose\")\n",
    "        print(f\"{action[-1]:+1.2f} {dp:+1.2f} {gripper_pos[2]:+1.2f} < 0.12\")\n",
    "        # get the average pos of the last 4 links \n",
    "        grip_pos = get_grip_pose(env)\n",
    "        grip_pos[-1] = PZ\n",
    "        # make a debug sphere\n",
    "        debug_arrow = env.scene.draw_debug_arrow(pos=gripper_pos, vec=grip_pos - gripper_pos, radius=0.01, color=(1, 0, 0, 0.5))  # Green\n",
    "        env.scene.draw_debug_sphere(gripper_pos, 0.01, color=(0, 1, 1))\n",
    "        env.scene.draw_debug_sphere(grip_pos, 0.01, color=(0, 0, 1))\n",
    "        env.reset(trial_id=trial_id)\n",
    "        demo_player.reset_current_demo()\n",
    "\n",
    "        for _ in range(10):\n",
    "            env.scene.step() # let the arm get back before we reset the can\n",
    "\n",
    "        env.set_can_to_pose(torch.Tensor(grip_pos))\n",
    "        TRIAL_CAN_ADJUSTED[trial_id] = True\n",
    "\n",
    "        time.sleep(10)\n",
    "\n",
    "        env.scene.step()\n",
    "\n",
    "    action = demo_player.next_action()\n",
    "    action = action['action'] if action is not None else None\n",
    "    if done:\n",
    "        break\n",
    "\n",
    "\n"
   ]
  },
  {
   "cell_type": "code",
   "execution_count": null,
   "metadata": {},
   "outputs": [],
   "source": []
  }
 ],
 "metadata": {
  "kernelspec": {
   "display_name": "venv",
   "language": "python",
   "name": "python3"
  },
  "language_info": {
   "codemirror_mode": {
    "name": "ipython",
    "version": 3
   },
   "file_extension": ".py",
   "mimetype": "text/x-python",
   "name": "python",
   "nbconvert_exporter": "python",
   "pygments_lexer": "ipython3",
   "version": "3.10.12"
  }
 },
 "nbformat": 4,
 "nbformat_minor": 2
}
